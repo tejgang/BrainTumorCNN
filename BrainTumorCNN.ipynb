{
 "cells": [
  {
   "cell_type": "markdown",
   "id": "30d712fb-0da0-46bd-b476-4aa35303615f",
   "metadata": {},
   "source": [
    "Brain Tumor Classification with a Convolutional Neural Network"
   ]
  },
  {
   "cell_type": "markdown",
   "id": "41f642d6-2e29-44a7-af88-f17da79c3472",
   "metadata": {},
   "source": [
    "1. Import Necessary Libraries"
   ]
  },
  {
   "cell_type": "code",
   "execution_count": 1,
   "id": "d73cb97e-28ef-46e6-9a0a-e01ce6f5b265",
   "metadata": {},
   "outputs": [],
   "source": [
    "import tensorflow as tf\n",
    "import numpy as np\n",
    "import matplotlib as plt\n",
    "import sklearn\n",
    "import seaborn\n",
    "import os\n",
    "import random"
   ]
  },
  {
   "cell_type": "markdown",
   "id": "b905ef2e-e5f2-4e37-91f4-5d15b5670ded",
   "metadata": {},
   "source": [
    "2. Set Parameters"
   ]
  },
  {
   "cell_type": "code",
   "execution_count": 5,
   "id": "be3c362d-cda8-4347-a1d5-0da0951b9a09",
   "metadata": {},
   "outputs": [],
   "source": [
    "IMAGE_SIZE = (150, 150)  \n",
    "BATCH_SIZE = 32         \n",
    "EPOCHS = 40\n",
    "NUM_CLASSES = 4\n",
    "SEED = 42"
   ]
  },
  {
   "cell_type": "markdown",
   "id": "4eed58b7-2cc1-4a70-85fe-75c4c0e06327",
   "metadata": {},
   "source": [
    "3. Load Data"
   ]
  },
  {
   "cell_type": "code",
   "execution_count": null,
   "id": "acf530d5-ea18-4508-bcad-6912b0efb3aa",
   "metadata": {},
   "outputs": [],
   "source": []
  }
 ],
 "metadata": {
  "kernelspec": {
   "display_name": "Python 3 (ipykernel)",
   "language": "python",
   "name": "python3"
  },
  "language_info": {
   "codemirror_mode": {
    "name": "ipython",
    "version": 3
   },
   "file_extension": ".py",
   "mimetype": "text/x-python",
   "name": "python",
   "nbconvert_exporter": "python",
   "pygments_lexer": "ipython3",
   "version": "3.12.4"
  }
 },
 "nbformat": 4,
 "nbformat_minor": 5
}
